{
  "cells": [
    {
      "cell_type": "code",
      "execution_count": 1,
      "id": "55494224",
      "metadata": {
        "id": "55494224"
      },
      "outputs": [],
      "source": [
        "import pandas as pd\n",
        "import numpy as np\n",
        "import os"
      ]
    },
    {
      "cell_type": "markdown",
      "source": [
        "# Загрузка данных"
      ],
      "metadata": {
        "id": "iLEYemKfsaBC"
      },
      "id": "iLEYemKfsaBC"
    },
    {
      "cell_type": "code",
      "execution_count": 69,
      "id": "b93983ed",
      "metadata": {
        "colab": {
          "base_uri": "https://localhost:8080/",
          "height": 424
        },
        "id": "b93983ed",
        "outputId": "8700a17f-3c84-4c34-c679-4ebf206bcb45"
      },
      "outputs": [
        {
          "output_type": "execute_result",
          "data": {
            "text/html": [
              "<div>\n",
              "<style scoped>\n",
              "    .dataframe tbody tr th:only-of-type {\n",
              "        vertical-align: middle;\n",
              "    }\n",
              "\n",
              "    .dataframe tbody tr th {\n",
              "        vertical-align: top;\n",
              "    }\n",
              "\n",
              "    .dataframe thead th {\n",
              "        text-align: right;\n",
              "    }\n",
              "</style>\n",
              "<table border=\"1\" class=\"dataframe\">\n",
              "  <thead>\n",
              "    <tr style=\"text-align: right;\">\n",
              "      <th></th>\n",
              "      <th>age</th>\n",
              "      <th>creatinine_phosphokinase</th>\n",
              "      <th>ejection_fraction</th>\n",
              "      <th>platelets</th>\n",
              "      <th>serum_creatinine</th>\n",
              "      <th>serum_sodium</th>\n",
              "    </tr>\n",
              "  </thead>\n",
              "  <tbody>\n",
              "    <tr>\n",
              "      <th>0</th>\n",
              "      <td>75.0</td>\n",
              "      <td>582</td>\n",
              "      <td>20</td>\n",
              "      <td>265000.00</td>\n",
              "      <td>1.9</td>\n",
              "      <td>130</td>\n",
              "    </tr>\n",
              "    <tr>\n",
              "      <th>1</th>\n",
              "      <td>55.0</td>\n",
              "      <td>7861</td>\n",
              "      <td>38</td>\n",
              "      <td>263358.03</td>\n",
              "      <td>1.1</td>\n",
              "      <td>136</td>\n",
              "    </tr>\n",
              "    <tr>\n",
              "      <th>2</th>\n",
              "      <td>65.0</td>\n",
              "      <td>146</td>\n",
              "      <td>20</td>\n",
              "      <td>162000.00</td>\n",
              "      <td>1.3</td>\n",
              "      <td>129</td>\n",
              "    </tr>\n",
              "    <tr>\n",
              "      <th>3</th>\n",
              "      <td>50.0</td>\n",
              "      <td>111</td>\n",
              "      <td>20</td>\n",
              "      <td>210000.00</td>\n",
              "      <td>1.9</td>\n",
              "      <td>137</td>\n",
              "    </tr>\n",
              "    <tr>\n",
              "      <th>4</th>\n",
              "      <td>65.0</td>\n",
              "      <td>160</td>\n",
              "      <td>20</td>\n",
              "      <td>327000.00</td>\n",
              "      <td>2.7</td>\n",
              "      <td>116</td>\n",
              "    </tr>\n",
              "    <tr>\n",
              "      <th>...</th>\n",
              "      <td>...</td>\n",
              "      <td>...</td>\n",
              "      <td>...</td>\n",
              "      <td>...</td>\n",
              "      <td>...</td>\n",
              "      <td>...</td>\n",
              "    </tr>\n",
              "    <tr>\n",
              "      <th>294</th>\n",
              "      <td>62.0</td>\n",
              "      <td>61</td>\n",
              "      <td>38</td>\n",
              "      <td>155000.00</td>\n",
              "      <td>1.1</td>\n",
              "      <td>143</td>\n",
              "    </tr>\n",
              "    <tr>\n",
              "      <th>295</th>\n",
              "      <td>55.0</td>\n",
              "      <td>1820</td>\n",
              "      <td>38</td>\n",
              "      <td>270000.00</td>\n",
              "      <td>1.2</td>\n",
              "      <td>139</td>\n",
              "    </tr>\n",
              "    <tr>\n",
              "      <th>296</th>\n",
              "      <td>45.0</td>\n",
              "      <td>2060</td>\n",
              "      <td>60</td>\n",
              "      <td>742000.00</td>\n",
              "      <td>0.8</td>\n",
              "      <td>138</td>\n",
              "    </tr>\n",
              "    <tr>\n",
              "      <th>297</th>\n",
              "      <td>45.0</td>\n",
              "      <td>2413</td>\n",
              "      <td>38</td>\n",
              "      <td>140000.00</td>\n",
              "      <td>1.4</td>\n",
              "      <td>140</td>\n",
              "    </tr>\n",
              "    <tr>\n",
              "      <th>298</th>\n",
              "      <td>50.0</td>\n",
              "      <td>196</td>\n",
              "      <td>45</td>\n",
              "      <td>395000.00</td>\n",
              "      <td>1.6</td>\n",
              "      <td>136</td>\n",
              "    </tr>\n",
              "  </tbody>\n",
              "</table>\n",
              "<p>299 rows × 6 columns</p>\n",
              "</div>"
            ],
            "text/plain": [
              "      age  creatinine_phosphokinase  ...  serum_creatinine  serum_sodium\n",
              "0    75.0                       582  ...               1.9           130\n",
              "1    55.0                      7861  ...               1.1           136\n",
              "2    65.0                       146  ...               1.3           129\n",
              "3    50.0                       111  ...               1.9           137\n",
              "4    65.0                       160  ...               2.7           116\n",
              "..    ...                       ...  ...               ...           ...\n",
              "294  62.0                        61  ...               1.1           143\n",
              "295  55.0                      1820  ...               1.2           139\n",
              "296  45.0                      2060  ...               0.8           138\n",
              "297  45.0                      2413  ...               1.4           140\n",
              "298  50.0                       196  ...               1.6           136\n",
              "\n",
              "[299 rows x 6 columns]"
            ]
          },
          "metadata": {},
          "execution_count": 69
        }
      ],
      "source": [
        "df = pd.read_csv('heart_failure_clinical_records_dataset.csv')\n",
        "df = df.drop(columns = ['anaemia','diabetes','high_blood_pressure','sex','smoking','time','DEATH_EVENT'])\n",
        "df #Вывод датафрейма с данными для лаб. работы. Должно быть 299 наблюдений и 6 признаков"
      ]
    },
    {
      "cell_type": "code",
      "execution_count": 70,
      "id": "ea0d834b",
      "metadata": {
        "colab": {
          "base_uri": "https://localhost:8080/",
          "height": 297
        },
        "id": "ea0d834b",
        "outputId": "4bae55f9-081d-466c-ee37-b631d718fa9c"
      },
      "outputs": [
        {
          "output_type": "display_data",
          "data": {
            "image/png": "[encoded data removed]",
            "text/plain": [
              "<Figure size 432x288 with 6 Axes>"
            ]
          },
          "metadata": {
            "needs_background": "light"
          }
        }
      ],
      "source": [
        "import matplotlib.pyplot as plt\n",
        "\n",
        "n_bins = 20\n",
        "fig, axs = plt.subplots(2,3)\n",
        "\n",
        "axs[0, 0].hist(df['age'].values, bins = n_bins)\n",
        "axs[0, 0].set_title('age')\n",
        "axs[0, 1].hist(df['creatinine_phosphokinase'].values, bins = n_bins)\n",
        "axs[0, 1].set_title('creatinine_phosphokinase')\n",
        "axs[0, 2].hist(df['ejection_fraction'].values, bins = n_bins)\n",
        "axs[0, 2].set_title('ejection_fraction')\n",
        "axs[1, 0].hist(df['platelets'].values, bins = n_bins)\n",
        "axs[1, 0].set_title('platelets')\n",
        "axs[1, 1].hist(df['serum_creatinine'].values, bins = n_bins)\n",
        "axs[1, 1].set_title('serum_creatinine')\n",
        "axs[1, 2].hist(df['serum_sodium'].values, bins = n_bins)\n",
        "axs[1, 2].set_title('serum_sodium')\n",
        "\n",
        "plt.tight_layout() # чтобы названия осей не перекрывались\n",
        "\n",
        "plt.show()"
      ]
    },
    {
      "cell_type": "markdown",
      "source": [
        "### Диапазон для признаков\n",
        "По гистограммам можно примерно определить диапазон для признаков:\n",
        "\n",
        "age: 10 - 90\n",
        "\n",
        "creatinine_phosphokinase: 0 - 9000\n",
        "\n",
        "ejection_fraction: 5 - 90\n",
        "\n",
        "platelets: 1 - 1000000\n",
        "\n",
        "serum_creatinine: 1 - 9\n",
        "\n",
        "serum_sodium: 0 - 160"
      ],
      "metadata": {
        "id": "tl7lEFcQboPO"
      },
      "id": "tl7lEFcQboPO"
    },
    {
      "cell_type": "markdown",
      "source": [
        "Проверим точные значения диапазона для признаков:"
      ],
      "metadata": {
        "id": "lCFCWtnMcqoZ"
      },
      "id": "lCFCWtnMcqoZ"
    },
    {
      "cell_type": "code",
      "source": [
        "print('age: ', df.age.min(), '-', df.age.max(),\n",
        "      '\\ncreatinine_phosphokinase: ', df.creatinine_phosphokinase.min(), '-', df.creatinine_phosphokinase.max(),\n",
        "      '\\nejection_fraction: ', df.ejection_fraction.min(), '-', df.ejection_fraction.max(),\n",
        "      '\\nplatelets: ', df.platelets.min(), '-', df.platelets.max(),\n",
        "      '\\nserum_creatinine: ', df.serum_creatinine.min(), '-', df.serum_creatinine.max(),\n",
        "      '\\nserum_sodium: ', df.serum_sodium.min(), '-', df.serum_sodium.max())"
      ],
      "metadata": {
        "colab": {
          "base_uri": "https://localhost:8080/"
        },
        "id": "FyimNvK_bDC9",
        "outputId": "014f7a28-b02d-4727-fe90-51a0f3974c7d"
      },
      "id": "FyimNvK_bDC9",
      "execution_count": 71,
      "outputs": [
        {
          "output_type": "stream",
          "name": "stdout",
          "text": [
            "age:  40.0 - 95.0 \n",
            "creatinine_phosphokinase:  23 - 7861 \n",
            "ejection_fraction:  14 - 80 \n",
            "platelets:  25100.0 - 850000.0 \n",
            "serum_creatinine:  0.5 - 9.4 \n",
            "serum_sodium:  113 - 148\n"
          ]
        }
      ]
    },
    {
      "cell_type": "markdown",
      "source": [
        "### Самое частое наблюдение\n",
        "По гистограммам можно примерно определить самое частое наблюдение:\n",
        "\n",
        "age: 62\n",
        "\n",
        "creatinine_phosphokinase: 1\n",
        "\n",
        "ejection_fraction: 40\n",
        "\n",
        "platelets: 250000\n",
        "\n",
        "serum_creatinine: 1\n",
        "\n",
        "serum_sodium: 139\n",
        "\n",
        "Проверим точное самое частое значение:"
      ],
      "metadata": {
        "id": "xa9kxq-SdgeM"
      },
      "id": "xa9kxq-SdgeM"
    },
    {
      "cell_type": "code",
      "source": [
        "print('age: ', df.age.mode()[0],\n",
        "      '\\ncreatinine_phosphokinase: ', df.creatinine_phosphokinase.mode()[0],\n",
        "      '\\nejection_fraction: ', df.ejection_fraction.mode()[0],\n",
        "      '\\nplatelets: ', df.platelets.mode()[0],\n",
        "      '\\nserum_creatinine: ', df.serum_creatinine.mode()[0],\n",
        "      '\\nserum_sodium: ', df.serum_sodium.mode()[0])"
      ],
      "metadata": {
        "colab": {
          "base_uri": "https://localhost:8080/"
        },
        "id": "NnGmbHekbDFr",
        "outputId": "938954d2-d8d4-4562-a841-c46614203b4a"
      },
      "id": "NnGmbHekbDFr",
      "execution_count": 72,
      "outputs": [
        {
          "output_type": "stream",
          "name": "stdout",
          "text": [
            "age:  60.0 \n",
            "creatinine_phosphokinase:  582 \n",
            "ejection_fraction:  35 \n",
            "platelets:  263358.03 \n",
            "serum_creatinine:  1.0 \n",
            "serum_sodium:  136\n"
          ]
        }
      ]
    },
    {
      "cell_type": "code",
      "source": [
        "data = df.to_numpy(dtype='float')"
      ],
      "metadata": {
        "id": "feGQMrtkf4rl"
      },
      "id": "feGQMrtkf4rl",
      "execution_count": 73,
      "outputs": []
    },
    {
      "cell_type": "markdown",
      "source": [
        "# Стандартизация данных"
      ],
      "metadata": {
        "id": "Y_dQ9fo3sTB8"
      },
      "id": "Y_dQ9fo3sTB8"
    },
    {
      "cell_type": "code",
      "source": [
        "from sklearn import preprocessing\n",
        "scaler = preprocessing.StandardScaler().fit(data[:150,:])"
      ],
      "metadata": {
        "id": "-eCBZxCof_lQ"
      },
      "id": "-eCBZxCof_lQ",
      "execution_count": 7,
      "outputs": []
    },
    {
      "cell_type": "code",
      "source": [
        "data_scaled = scaler.transform(data)"
      ],
      "metadata": {
        "id": "-eMCe1fjf_oD"
      },
      "id": "-eMCe1fjf_oD",
      "execution_count": 8,
      "outputs": []
    },
    {
      "cell_type": "code",
      "source": [
        "fig, axs = plt.subplots(2,3)\n",
        "axs[0, 0].hist(data_scaled[:,0], bins = n_bins)\n",
        "axs[0, 0].set_title('age')\n",
        "axs[0, 1].hist(data_scaled[:,1], bins = n_bins)\n",
        "axs[0, 1].set_title('creatinine_phosphokinase')\n",
        "axs[0, 2].hist(data_scaled[:,2], bins = n_bins)\n",
        "axs[0, 2].set_title('ejection_fraction')\n",
        "axs[1, 0].hist(data_scaled[:,3], bins = n_bins)\n",
        "axs[1, 0].set_title('platelets')\n",
        "axs[1, 1].hist(data_scaled[:,4], bins = n_bins)\n",
        "axs[1, 1].set_title('serum_creatinine')\n",
        "axs[1, 2].hist(data_scaled[:,5], bins = n_bins)\n",
        "axs[1, 2].set_title('serum_sodium')\n",
        "\n",
        "plt.tight_layout() # чтобы названия осей не перекрывались\n",
        "\n",
        "plt.show()"
      ],
      "metadata": {
        "colab": {
          "base_uri": "https://localhost:8080/",
          "height": 297
        },
        "id": "lKFUbWi4f_qr",
        "outputId": "d9eab26b-842d-490e-f847-d6b928ff24cc"
      },
      "id": "lKFUbWi4f_qr",
      "execution_count": 9,
      "outputs": [
        {
          "output_type": "display_data",
          "data": {
            "image/png": "[encoded data removed]",
            "text/plain": [
              "<Figure size 432x288 with 6 Axes>"
            ]
          },
          "metadata": {
            "needs_background": "light"
          }
        }
      ]
    },
    {
      "cell_type": "markdown",
      "source": [
        "Сравнивая гистограммы до стандартизации и после, можно сказать, что форма гистограм не изменилась, но значения столбцов по оси Х сдвинулись так, чтобы самое частое значение располагалось как можно ближе к нулю. \n",
        "\n",
        "Кроме того, до стандартизации диапазоны признаков довольно сильно отличались, теперь они все примерно похожи.\n",
        "\n",
        "Таким образом, произошло приведение выборок к среднему, равному нулю, и к СКО, равному единице."
      ],
      "metadata": {
        "id": "1hY1fzc7posA"
      },
      "id": "1hY1fzc7posA"
    },
    {
      "cell_type": "markdown",
      "source": [
        "### Мат. ожидание и СКО до и после стандартизации\n",
        "До:"
      ],
      "metadata": {
        "id": "ZuPFh9l9sG_B"
      },
      "id": "ZuPFh9l9sG_B"
    },
    {
      "cell_type": "code",
      "source": [
        "df.agg(['mean', 'std'])"
      ],
      "metadata": {
        "colab": {
          "base_uri": "https://localhost:8080/",
          "height": 112
        },
        "id": "oqK0S7qXrOIu",
        "outputId": "952fb064-2fe0-42e7-e9a6-16d1ec006a3a"
      },
      "id": "oqK0S7qXrOIu",
      "execution_count": 10,
      "outputs": [
        {
          "output_type": "execute_result",
          "data": {
            "text/html": [
              "<div>\n",
              "<style scoped>\n",
              "    .dataframe tbody tr th:only-of-type {\n",
              "        vertical-align: middle;\n",
              "    }\n",
              "\n",
              "    .dataframe tbody tr th {\n",
              "        vertical-align: top;\n",
              "    }\n",
              "\n",
              "    .dataframe thead th {\n",
              "        text-align: right;\n",
              "    }\n",
              "</style>\n",
              "<table border=\"1\" class=\"dataframe\">\n",
              "  <thead>\n",
              "    <tr style=\"text-align: right;\">\n",
              "      <th></th>\n",
              "      <th>age</th>\n",
              "      <th>creatinine_phosphokinase</th>\n",
              "      <th>ejection_fraction</th>\n",
              "      <th>platelets</th>\n",
              "      <th>serum_creatinine</th>\n",
              "      <th>serum_sodium</th>\n",
              "    </tr>\n",
              "  </thead>\n",
              "  <tbody>\n",
              "    <tr>\n",
              "      <th>mean</th>\n",
              "      <td>60.833893</td>\n",
              "      <td>581.839465</td>\n",
              "      <td>38.083612</td>\n",
              "      <td>263358.029264</td>\n",
              "      <td>1.39388</td>\n",
              "      <td>136.625418</td>\n",
              "    </tr>\n",
              "    <tr>\n",
              "      <th>std</th>\n",
              "      <td>11.894809</td>\n",
              "      <td>970.287881</td>\n",
              "      <td>11.834841</td>\n",
              "      <td>97804.236869</td>\n",
              "      <td>1.03451</td>\n",
              "      <td>4.412477</td>\n",
              "    </tr>\n",
              "  </tbody>\n",
              "</table>\n",
              "</div>"
            ],
            "text/plain": [
              "            age  creatinine_phosphokinase  ...  serum_creatinine  serum_sodium\n",
              "mean  60.833893                581.839465  ...           1.39388    136.625418\n",
              "std   11.894809                970.287881  ...           1.03451      4.412477\n",
              "\n",
              "[2 rows x 6 columns]"
            ]
          },
          "metadata": {},
          "execution_count": 10
        }
      ]
    },
    {
      "cell_type": "markdown",
      "source": [
        "После:"
      ],
      "metadata": {
        "id": "XmOAiKk2sghB"
      },
      "id": "XmOAiKk2sghB"
    },
    {
      "cell_type": "code",
      "source": [
        "# создаем датафрейм из стандартизованных данных, чтобы было удобно считать статистики\n",
        "df_scaled = pd.DataFrame(data_scaled, columns=['age', 'creatinine_phosphokinase', 'ejection_fraction', 'platelets',\n",
        "       'serum_creatinine', 'serum_sodium'])\n",
        "df_scaled.agg(['mean', 'std'])"
      ],
      "metadata": {
        "colab": {
          "base_uri": "https://localhost:8080/",
          "height": 112
        },
        "id": "FDD1HeYYsfoK",
        "outputId": "a92c0281-4317-4474-fd11-51691addc667"
      },
      "id": "FDD1HeYYsfoK",
      "execution_count": 11,
      "outputs": [
        {
          "output_type": "execute_result",
          "data": {
            "text/html": [
              "<div>\n",
              "<style scoped>\n",
              "    .dataframe tbody tr th:only-of-type {\n",
              "        vertical-align: middle;\n",
              "    }\n",
              "\n",
              "    .dataframe tbody tr th {\n",
              "        vertical-align: top;\n",
              "    }\n",
              "\n",
              "    .dataframe thead th {\n",
              "        text-align: right;\n",
              "    }\n",
              "</style>\n",
              "<table border=\"1\" class=\"dataframe\">\n",
              "  <thead>\n",
              "    <tr style=\"text-align: right;\">\n",
              "      <th></th>\n",
              "      <th>age</th>\n",
              "      <th>creatinine_phosphokinase</th>\n",
              "      <th>ejection_fraction</th>\n",
              "      <th>platelets</th>\n",
              "      <th>serum_creatinine</th>\n",
              "      <th>serum_sodium</th>\n",
              "    </tr>\n",
              "  </thead>\n",
              "  <tbody>\n",
              "    <tr>\n",
              "      <th>mean</th>\n",
              "      <td>-0.169704</td>\n",
              "      <td>-0.021277</td>\n",
              "      <td>0.010502</td>\n",
              "      <td>-0.035229</td>\n",
              "      <td>-0.108641</td>\n",
              "      <td>0.037908</td>\n",
              "    </tr>\n",
              "    <tr>\n",
              "      <th>std</th>\n",
              "      <td>0.955423</td>\n",
              "      <td>0.815544</td>\n",
              "      <td>0.907627</td>\n",
              "      <td>1.016763</td>\n",
              "      <td>0.886913</td>\n",
              "      <td>0.972000</td>\n",
              "    </tr>\n",
              "  </tbody>\n",
              "</table>\n",
              "</div>"
            ],
            "text/plain": [
              "           age  creatinine_phosphokinase  ...  serum_creatinine  serum_sodium\n",
              "mean -0.169704                 -0.021277  ...         -0.108641      0.037908\n",
              "std   0.955423                  0.815544  ...          0.886913      0.972000\n",
              "\n",
              "[2 rows x 6 columns]"
            ]
          },
          "metadata": {},
          "execution_count": 11
        }
      ]
    },
    {
      "cell_type": "markdown",
      "source": [
        "Как и ожидалось, значения СКО примерно равны единице, значения мат. ожидания - нулю. То есть, стандартизация для каждого признака рассчитывалась по формуле:\n",
        "$$z_{ij}=\\frac {x_{ij} - \\bar X_j} {\\sigma_j},i \\in [0, 298], j \\in [0, 5]$$\n",
        "\n",
        "где \n",
        "$$z_{ij}, x_{ij} - новое\\quadи\\quadстарое\\quadзначение\\quadсоответсвенно\\quad$$\n",
        "$$ \\bar X_{j} - среднее\\quadзначение\\quadстолбца\\quad j$$\n",
        "$$ \\sigma_j - значение\\quadСКО\\quadстолбца\\quad j$$\n",
        "\n"
      ],
      "metadata": {
        "id": "vJizrKVbtHNg"
      },
      "id": "vJizrKVbtHNg"
    },
    {
      "cell_type": "markdown",
      "source": [
        "Так как стандартизация выполнялась не для всего датасета, СКО и мат. ожидание не равны в точности единице и нулю.\n",
        "\n",
        "Проведем стандартизацию для всего датасета:"
      ],
      "metadata": {
        "id": "kXV9qPzUwQt8"
      },
      "id": "kXV9qPzUwQt8"
    },
    {
      "cell_type": "code",
      "source": [
        "data_scaled_all = preprocessing.StandardScaler().fit_transform(data)\n",
        "# создаем датафрейм из стандартизованных данных, чтобы было удобно считать статистики\n",
        "df_scaled_all = pd.DataFrame(data_scaled_all, columns=['age', 'creatinine_phosphokinase', 'ejection_fraction', 'platelets',\n",
        "       'serum_creatinine', 'serum_sodium'])\n",
        "df_scaled_all.agg(['mean', 'std'])"
      ],
      "metadata": {
        "colab": {
          "base_uri": "https://localhost:8080/",
          "height": 112
        },
        "id": "2k-mbbOpsfq8",
        "outputId": "c542cefa-4235-4014-9084-9aa541afb9f4"
      },
      "id": "2k-mbbOpsfq8",
      "execution_count": 12,
      "outputs": [
        {
          "output_type": "execute_result",
          "data": {
            "text/html": [
              "<div>\n",
              "<style scoped>\n",
              "    .dataframe tbody tr th:only-of-type {\n",
              "        vertical-align: middle;\n",
              "    }\n",
              "\n",
              "    .dataframe tbody tr th {\n",
              "        vertical-align: top;\n",
              "    }\n",
              "\n",
              "    .dataframe thead th {\n",
              "        text-align: right;\n",
              "    }\n",
              "</style>\n",
              "<table border=\"1\" class=\"dataframe\">\n",
              "  <thead>\n",
              "    <tr style=\"text-align: right;\">\n",
              "      <th></th>\n",
              "      <th>age</th>\n",
              "      <th>creatinine_phosphokinase</th>\n",
              "      <th>ejection_fraction</th>\n",
              "      <th>platelets</th>\n",
              "      <th>serum_creatinine</th>\n",
              "      <th>serum_sodium</th>\n",
              "    </tr>\n",
              "  </thead>\n",
              "  <tbody>\n",
              "    <tr>\n",
              "      <th>mean</th>\n",
              "      <td>5.265205e-16</td>\n",
              "      <td>3.713120e-18</td>\n",
              "      <td>3.341808e-18</td>\n",
              "      <td>1.009969e-16</td>\n",
              "      <td>-2.227872e-18</td>\n",
              "      <td>-8.627435e-16</td>\n",
              "    </tr>\n",
              "    <tr>\n",
              "      <th>std</th>\n",
              "      <td>1.001676e+00</td>\n",
              "      <td>1.001676e+00</td>\n",
              "      <td>1.001676e+00</td>\n",
              "      <td>1.001676e+00</td>\n",
              "      <td>1.001676e+00</td>\n",
              "      <td>1.001676e+00</td>\n",
              "    </tr>\n",
              "  </tbody>\n",
              "</table>\n",
              "</div>"
            ],
            "text/plain": [
              "               age  creatinine_phosphokinase  ...  serum_creatinine  serum_sodium\n",
              "mean  5.265205e-16              3.713120e-18  ...     -2.227872e-18 -8.627435e-16\n",
              "std   1.001676e+00              1.001676e+00  ...      1.001676e+00  1.001676e+00\n",
              "\n",
              "[2 rows x 6 columns]"
            ]
          },
          "metadata": {},
          "execution_count": 12
        }
      ]
    },
    {
      "cell_type": "markdown",
      "source": [
        "Видим, что теперь средние по признаков с достаточно большой точностью (>15 знаков после запятой) равны нулю, а СКО равны единице с точностью два знака после запятой."
      ],
      "metadata": {
        "id": "W5z5A8dCxOOt"
      },
      "id": "W5z5A8dCxOOt"
    },
    {
      "cell_type": "markdown",
      "source": [
        "# Приведение к диапазону"
      ],
      "metadata": {
        "id": "admaEk-wxhwV"
      },
      "id": "admaEk-wxhwV"
    },
    {
      "cell_type": "code",
      "source": [
        "min_max_scaler = preprocessing.MinMaxScaler().fit(data)\n",
        "data_min_max_scaled = min_max_scaler.transform(data)"
      ],
      "metadata": {
        "id": "B4ctTWnYxy_M"
      },
      "id": "B4ctTWnYxy_M",
      "execution_count": 13,
      "outputs": []
    },
    {
      "cell_type": "code",
      "source": [
        "def print_hist(data_scaled):\n",
        "  fig, axs = plt.subplots(2,3)\n",
        "  axs[0, 0].hist(data_scaled[:,0], bins = n_bins)\n",
        "  axs[0, 0].set_title('age')\n",
        "  axs[0, 1].hist(data_scaled[:,1], bins = n_bins)\n",
        "  axs[0, 1].set_title('creatinine_phosphokinase')\n",
        "  axs[0, 2].hist(data_scaled[:,2], bins = n_bins)\n",
        "  axs[0, 2].set_title('ejection_fraction')\n",
        "  axs[1, 0].hist(data_scaled[:,3], bins = n_bins)\n",
        "  axs[1, 0].set_title('platelets')\n",
        "  axs[1, 1].hist(data_scaled[:,4], bins = n_bins)\n",
        "  axs[1, 1].set_title('serum_creatinine')\n",
        "  axs[1, 2].hist(data_scaled[:,5], bins = n_bins)\n",
        "  axs[1, 2].set_title('serum_sodium')\n",
        "\n",
        "  plt.tight_layout() # чтобы названия осей не перекрывались\n",
        "\n",
        "  plt.show()\n",
        "\n",
        "print_hist(data_min_max_scaled)"
      ],
      "metadata": {
        "id": "IdO3Gpm6xzB_",
        "colab": {
          "base_uri": "https://localhost:8080/",
          "height": 297
        },
        "outputId": "bb24500e-f551-4b62-b2eb-12415f292614"
      },
      "id": "IdO3Gpm6xzB_",
      "execution_count": 14,
      "outputs": [
        {
          "output_type": "display_data",
          "data": {
            "image/png": "[encoded data removed]",
            "text/plain": [
              "<Figure size 432x288 with 6 Axes>"
            ]
          },
          "metadata": {
            "needs_background": "light"
          }
        }
      ]
    },
    {
      "cell_type": "markdown",
      "source": [
        "Видим, что форма распределения частот не изменилась, но диапазоны всех признаков стали у всех одинаковы: 0-1."
      ],
      "metadata": {
        "id": "yzRtOPPk41oN"
      },
      "id": "yzRtOPPk41oN"
    },
    {
      "cell_type": "markdown",
      "source": [
        "### Минимальное и максимальное значение для каждого признака через параметры MinMaxScaler:"
      ],
      "metadata": {
        "id": "7pJieDvJ6Hoy"
      },
      "id": "7pJieDvJ6Hoy"
    },
    {
      "cell_type": "code",
      "source": [
        "min_max_scaler.feature_range"
      ],
      "metadata": {
        "colab": {
          "base_uri": "https://localhost:8080/"
        },
        "id": "Up19itwZF99A",
        "outputId": "70f5c9b3-20ea-43b4-951d-d67fe42ab67b"
      },
      "id": "Up19itwZF99A",
      "execution_count": 15,
      "outputs": [
        {
          "output_type": "execute_result",
          "data": {
            "text/plain": [
              "(0, 1)"
            ]
          },
          "metadata": {},
          "execution_count": 15
        }
      ]
    },
    {
      "cell_type": "markdown",
      "source": [
        "Видим, что согласно параметрам стандартизатора диапазон значений действиетльно (0, 1)."
      ],
      "metadata": {
        "id": "7UYCxot-GExt"
      },
      "id": "7UYCxot-GExt"
    },
    {
      "cell_type": "markdown",
      "source": [
        "### MaxAbsScaler"
      ],
      "metadata": {
        "id": "qb3SKCIGGQVF"
      },
      "id": "qb3SKCIGGQVF"
    },
    {
      "cell_type": "code",
      "source": [
        "max_abs_scaler = preprocessing.MaxAbsScaler().fit(data)\n",
        "data_max_abs_scaled = max_abs_scaler.transform(data)\n",
        "\n",
        "print_hist(data_max_abs_scaled)"
      ],
      "metadata": {
        "colab": {
          "base_uri": "https://localhost:8080/",
          "height": 297
        },
        "id": "1j6I0cS45bUO",
        "outputId": "865b23fa-aeb9-4c3a-c609-6a200536511d"
      },
      "id": "1j6I0cS45bUO",
      "execution_count": 16,
      "outputs": [
        {
          "output_type": "display_data",
          "data": {
            "image/png": "[encoded data removed]",
            "text/plain": [
              "<Figure size 432x288 with 6 Axes>"
            ]
          },
          "metadata": {
            "needs_background": "light"
          }
        }
      ]
    },
    {
      "cell_type": "markdown",
      "source": [
        "Данный стандартизатор делит значения столбцов на максимальное абсолютное значение в столбце. Таким образом, верхней границей диапазона будет единица. Посчитаем нижнюю границу:"
      ],
      "metadata": {
        "id": "dsYA1RsAIJow"
      },
      "id": "dsYA1RsAIJow"
    },
    {
      "cell_type": "code",
      "source": [
        "scales = max_abs_scaler.scale_ # вектор делителей для каждого столбца"
      ],
      "metadata": {
        "id": "YIPDqY-tGWlm"
      },
      "id": "YIPDqY-tGWlm",
      "execution_count": 25,
      "outputs": []
    },
    {
      "cell_type": "code",
      "source": [
        "df_scaled_all = pd.DataFrame(data_max_abs_scaled, columns=['age', 'creatinine_phosphokinase', 'ejection_fraction', 'platelets',\n",
        "       'serum_creatinine', 'serum_sodium'])\n",
        "\n",
        "for i in range(6):\n",
        "  print('Диапазон для столбца ', i, ': (', df.iloc[:, i].min() / scales[i], ', 1 )')"
      ],
      "metadata": {
        "colab": {
          "base_uri": "https://localhost:8080/"
        },
        "id": "AVV_7q16IB0j",
        "outputId": "dec2a5fa-e1de-48c5-fa61-9eb0c144adcd"
      },
      "id": "AVV_7q16IB0j",
      "execution_count": 32,
      "outputs": [
        {
          "output_type": "stream",
          "name": "stdout",
          "text": [
            "Диапазон для столбца  0 : ( 0.42105263157894735 , 1 )\n",
            "Диапазон для столбца  1 : ( 0.0029258364075817325 , 1 )\n",
            "Диапазон для столбца  2 : ( 0.175 , 1 )\n",
            "Диапазон для столбца  3 : ( 0.029529411764705884 , 1 )\n",
            "Диапазон для столбца  4 : ( 0.05319148936170213 , 1 )\n",
            "Диапазон для столбца  5 : ( 0.7635135135135135 , 1 )\n"
          ]
        }
      ]
    },
    {
      "cell_type": "markdown",
      "source": [
        "### RobustScaler"
      ],
      "metadata": {
        "id": "rEpcf5fyKekM"
      },
      "id": "rEpcf5fyKekM"
    },
    {
      "cell_type": "code",
      "source": [
        "robust_scaler = preprocessing.RobustScaler().fit(data)\n",
        "data_robust_scaled = robust_scaler.transform(data)\n",
        "\n",
        "print_hist(data_robust_scaled)"
      ],
      "metadata": {
        "colab": {
          "base_uri": "https://localhost:8080/",
          "height": 297
        },
        "id": "vDhL9NwN7cUi",
        "outputId": "2859b020-92c1-41a4-c3a5-1fef3a811f62"
      },
      "id": "vDhL9NwN7cUi",
      "execution_count": 33,
      "outputs": [
        {
          "output_type": "display_data",
          "data": {
            "image/png": "[encoded data removed]",
            "text/plain": [
              "<Figure size 432x288 with 6 Axes>"
            ]
          },
          "metadata": {
            "needs_background": "light"
          }
        }
      ]
    },
    {
      "cell_type": "markdown",
      "source": [
        "Данный стандартизатор приводит выборку к нулевому среднему и приводит значения к диапазону между заданными квантилями (по умолчанию между первым и вторым)."
      ],
      "metadata": {
        "id": "6sUVyM-7NSJe"
      },
      "id": "6sUVyM-7NSJe"
    },
    {
      "cell_type": "code",
      "source": [
        "df_scaled_all = pd.DataFrame(data_robust_scaled, columns=['age', 'creatinine_phosphokinase', 'ejection_fraction', 'platelets',\n",
        "       'serum_creatinine', 'serum_sodium'])\n",
        "\n",
        "for i in range(6):\n",
        "  print('Диапазон для столбца ', i, ': (', df_scaled_all.iloc[:, i].min(), ',', df_scaled_all.iloc[:, i].max(), ' )')"
      ],
      "metadata": {
        "colab": {
          "base_uri": "https://localhost:8080/"
        },
        "id": "lnLKBjUl7cWh",
        "outputId": "6c787cc1-96c2-4c8d-f1ed-985aa3cb88b6"
      },
      "id": "lnLKBjUl7cWh",
      "execution_count": 41,
      "outputs": [
        {
          "output_type": "stream",
          "name": "stdout",
          "text": [
            "Диапазон для столбца  0 : ( -1.0526315789473684 , 1.8421052631578947  )\n",
            "Диапазон для столбца  1 : ( -0.48764769065520946 , 16.35016111707841  )\n",
            "Диапазон для столбца  2 : ( -1.6 , 2.8  )\n",
            "Диапазон для столбца  3 : ( -2.6032967032967034 , 6.461538461538462  )\n",
            "Диапазон для столбца  4 : ( -1.2000000000000004 , 16.600000000000005  )\n",
            "Диапазон для столбца  5 : ( -4.0 , 1.8333333333333333  )\n"
          ]
        }
      ]
    },
    {
      "cell_type": "markdown",
      "source": [
        "### Диапазон [-5, 10]"
      ],
      "metadata": {
        "id": "NhBz-cIadoDp"
      },
      "id": "NhBz-cIadoDp"
    },
    {
      "cell_type": "code",
      "source": [
        "def set_range(df):\n",
        "  res = df.copy(deep=True)\n",
        "\n",
        "  for col in res.columns:\n",
        "    res[col] = (res[col] - df[col].min()) / (df[col].max() - df[col].min()) * (10 + 5) - 5\n",
        "\n",
        "  return res"
      ],
      "metadata": {
        "id": "sAFnN3KfdvjU"
      },
      "id": "sAFnN3KfdvjU",
      "execution_count": 84,
      "outputs": []
    },
    {
      "cell_type": "code",
      "source": [
        "df_range = set_range(df)\n",
        "data_range = df_range.to_numpy(dtype='float')\n",
        "print_hist(data_range)"
      ],
      "metadata": {
        "colab": {
          "base_uri": "https://localhost:8080/",
          "height": 297
        },
        "id": "I8kx0wGifjhs",
        "outputId": "2e7e0bf9-661e-4b02-b4cf-e7d80f2894c8"
      },
      "id": "I8kx0wGifjhs",
      "execution_count": 86,
      "outputs": [
        {
          "output_type": "display_data",
          "data": {
            "image/png": "[encoded data removed]",
            "text/plain": [
              "<Figure size 432x288 with 6 Axes>"
            ]
          },
          "metadata": {
            "needs_background": "light"
          }
        }
      ]
    },
    {
      "cell_type": "markdown",
      "source": [
        "# Нелинейные преобразования"
      ],
      "metadata": {
        "id": "OXVtsr-Wxqgo"
      },
      "id": "OXVtsr-Wxqgo"
    },
    {
      "cell_type": "markdown",
      "source": [
        "### QuantileTransformer"
      ],
      "metadata": {
        "id": "3cYf6xXfVhut"
      },
      "id": "3cYf6xXfVhut"
    },
    {
      "cell_type": "code",
      "source": [
        "quantile_transformer = preprocessing.QuantileTransformer(n_quantiles = 100,\n",
        "random_state=0).fit(data)\n",
        "data_quantile_scaled = quantile_transformer.transform(data)"
      ],
      "metadata": {
        "id": "q33otzmcOCuG"
      },
      "id": "q33otzmcOCuG",
      "execution_count": 42,
      "outputs": []
    },
    {
      "cell_type": "code",
      "source": [
        "print_hist(data_quantile_scaled)"
      ],
      "metadata": {
        "colab": {
          "base_uri": "https://localhost:8080/",
          "height": 297
        },
        "id": "2ZJSpoxkOCxF",
        "outputId": "b529d255-ce2a-42f5-bcd8-32db5dca6b76"
      },
      "id": "2ZJSpoxkOCxF",
      "execution_count": 44,
      "outputs": [
        {
          "output_type": "display_data",
          "data": {
            "image/png": "[encoded data removed]",
            "text/plain": [
              "<Figure size 432x288 with 6 Axes>"
            ]
          },
          "metadata": {
            "needs_background": "light"
          }
        }
      ]
    },
    {
      "cell_type": "markdown",
      "source": [
        "Видим, что выборки признаков теперь имеют диапазон (0,1), а высоты столбцов стали более сосредоточенными вокруг определенных для каждого признака значений.\n",
        "\n",
        "n_quantiles - параметр, который задает число квантилей для вычисления, а следовательно и число отрезков в кумулятивной функции распределения F:\n",
        "\n",
        "$$G^{-1}(F(X)),$$\n",
        "\n",
        "где G^(-1) - квантильная функция для равномерного распределения."
      ],
      "metadata": {
        "id": "z_oAQXSRTGuV"
      },
      "id": "z_oAQXSRTGuV"
    },
    {
      "cell_type": "markdown",
      "source": [
        "### QuantileTransformer for normal "
      ],
      "metadata": {
        "id": "MqO16z4VVmfS"
      },
      "id": "MqO16z4VVmfS"
    },
    {
      "cell_type": "code",
      "source": [
        "quantile_transformer = preprocessing.QuantileTransformer(n_quantiles = 100,\n",
        "random_state=0, output_distribution='normal').fit(data)\n",
        "data_quantile_scaled = quantile_transformer.transform(data)\n",
        "\n",
        "print_hist(data_quantile_scaled)"
      ],
      "metadata": {
        "colab": {
          "base_uri": "https://localhost:8080/",
          "height": 297
        },
        "id": "9rs4pDMoOC2Z",
        "outputId": "13e6baa5-b6fa-460c-f223-032259e0fe1b"
      },
      "id": "9rs4pDMoOC2Z",
      "execution_count": 47,
      "outputs": [
        {
          "output_type": "display_data",
          "data": {
            "image/png": "[encoded data removed]",
            "text/plain": [
              "<Figure size 432x288 with 6 Axes>"
            ]
          },
          "metadata": {
            "needs_background": "light"
          }
        }
      ]
    },
    {
      "cell_type": "markdown",
      "source": [
        "Аналогично, видим, что распределения признаков стали более походить на нормальные с нулевым средним."
      ],
      "metadata": {
        "id": "7SZ4QCCCV9Ek"
      },
      "id": "7SZ4QCCCV9Ek"
    },
    {
      "cell_type": "markdown",
      "source": [
        "### PowerTransformer"
      ],
      "metadata": {
        "id": "9DTxJMBuWWWZ"
      },
      "id": "9DTxJMBuWWWZ"
    },
    {
      "cell_type": "markdown",
      "source": [
        "Так как в исходных данных нет отрицательных значений, будем использовать метод box-cox."
      ],
      "metadata": {
        "id": "M8LNIGX4XGvM"
      },
      "id": "M8LNIGX4XGvM"
    },
    {
      "cell_type": "code",
      "source": [
        "power_transformer = preprocessing.PowerTransformer(method='box-cox').fit(data)\n",
        "data_normal_scaled = power_transformer.transform(data)\n",
        "\n",
        "print_hist(data_normal_scaled)"
      ],
      "metadata": {
        "colab": {
          "base_uri": "https://localhost:8080/",
          "height": 297
        },
        "id": "KK_A1JFRWZ9L",
        "outputId": "3d2a3564-1e1c-47fb-bb5e-d5b604f3bcce"
      },
      "id": "KK_A1JFRWZ9L",
      "execution_count": 54,
      "outputs": [
        {
          "output_type": "display_data",
          "data": {
            "image/png": "[encoded data removed]",
            "text/plain": [
              "<Figure size 432x288 with 6 Axes>"
            ]
          },
          "metadata": {
            "needs_background": "light"
          }
        }
      ]
    },
    {
      "cell_type": "markdown",
      "source": [
        "# Дискретизация признаков"
      ],
      "metadata": {
        "id": "aF9vq9t_xukF"
      },
      "id": "aF9vq9t_xukF"
    },
    {
      "cell_type": "markdown",
      "source": [
        "Параметры:\n",
        "\n",
        "ordinal - возвращает метки стобцов в каждой ячейке\n",
        "\n",
        "uniform - столбцы имеют одинаковую ширину"
      ],
      "metadata": {
        "id": "cgq8wa0oaUdY"
      },
      "id": "cgq8wa0oaUdY"
    },
    {
      "cell_type": "code",
      "source": [
        "est = preprocessing.KBinsDiscretizer(n_bins=[3,4,3,10,2,4], encode='ordinal', strategy='uniform')\n",
        "est.fit(data)\n",
        "data_bins = est.transform(data)"
      ],
      "metadata": {
        "id": "kapWB1rdYEGr"
      },
      "id": "kapWB1rdYEGr",
      "execution_count": 77,
      "outputs": []
    },
    {
      "cell_type": "code",
      "source": [
        "print_hist(data_bins)"
      ],
      "metadata": {
        "colab": {
          "base_uri": "https://localhost:8080/",
          "height": 297
        },
        "id": "EqeSWRiUaOKy",
        "outputId": "501abf7a-4606-43bd-d3b8-88acca5e5769"
      },
      "id": "EqeSWRiUaOKy",
      "execution_count": 78,
      "outputs": [
        {
          "output_type": "display_data",
          "data": {
            "image/png": "[encoded data removed]",
            "text/plain": [
              "<Figure size 432x288 with 6 Axes>"
            ]
          },
          "metadata": {
            "needs_background": "light"
          }
        }
      ]
    },
    {
      "cell_type": "markdown",
      "source": [
        "Получились гистограммы с заданным числом столбцов, в которые входят части выборок."
      ],
      "metadata": {
        "id": "_NCSy5iuaz_9"
      },
      "id": "_NCSy5iuaz_9"
    },
    {
      "cell_type": "markdown",
      "source": [
        "Границы столбцов по признакам:"
      ],
      "metadata": {
        "id": "SlWRfNWZbHV0"
      },
      "id": "SlWRfNWZbHV0"
    },
    {
      "cell_type": "code",
      "source": [
        "for i  in range(6):\n",
        "  print('Столбец ', i, ':', est.bin_edges_[i])"
      ],
      "metadata": {
        "colab": {
          "base_uri": "https://localhost:8080/"
        },
        "id": "0bRchnPQa_ed",
        "outputId": "0c25e13d-2163-4e99-c951-8f468cacabbb"
      },
      "id": "0bRchnPQa_ed",
      "execution_count": 81,
      "outputs": [
        {
          "output_type": "stream",
          "name": "stdout",
          "text": [
            "Столбец  0 : [40.         58.33333333 76.66666667 95.        ]\n",
            "Столбец  1 : [  23.  1982.5 3942.  5901.5 7861. ]\n",
            "Столбец  2 : [14. 36. 58. 80.]\n",
            "Столбец  3 : [ 25100. 107590. 190080. 272570. 355060. 437550. 520040. 602530. 685020.\n",
            " 767510. 850000.]\n",
            "Столбец  4 : [0.5  4.95 9.4 ]\n",
            "Столбец  5 : [113.   121.75 130.5  139.25 148.  ]\n"
          ]
        }
      ]
    }
  ],
  "metadata": {
    "kernelspec": {
      "display_name": "Python 3",
      "language": "python",
      "name": "python3"
    },
    "language_info": {
      "codemirror_mode": {
        "name": "ipython",
        "version": 3
      },
      "file_extension": ".py",
      "mimetype": "text/x-python",
      "name": "python",
      "nbconvert_exporter": "python",
      "pygments_lexer": "ipython3",
      "version": "3.8.8"
    },
    "colab": {
      "name": "ML1.ipynb",
      "provenance": [],
      "collapsed_sections": []
    }
  },
  "nbformat": 4,
  "nbformat_minor": 5
}